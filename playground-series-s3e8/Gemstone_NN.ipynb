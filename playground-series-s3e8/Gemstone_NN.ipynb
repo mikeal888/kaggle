{
 "cells": [
  {
   "cell_type": "code",
   "execution_count": 1,
   "metadata": {},
   "outputs": [
    {
     "name": "stdout",
     "output_type": "stream",
     "text": [
      "Num GPUs Available:  1\n"
     ]
    }
   ],
   "source": [
    "import pandas as pd\n",
    "import seaborn as sns\n",
    "import matplotlib.pyplot as plt\n",
    "import tensorflow as tf\n",
    "\n",
    "print(\"Num GPUs Available: \", len(tf.config.experimental.list_physical_devices('GPU')))"
   ]
  },
  {
   "cell_type": "code",
   "execution_count": 27,
   "metadata": {},
   "outputs": [],
   "source": [
    "train_df = pd.read_csv('train.csv')\n",
    "test_df = pd.read_csv('test.csv')"
   ]
  },
  {
   "attachments": {},
   "cell_type": "markdown",
   "metadata": {},
   "source": [
    "In this notebook, we will build a simple NN model to predict some data"
   ]
  },
  {
   "cell_type": "code",
   "execution_count": 16,
   "metadata": {},
   "outputs": [
    {
     "data": {
      "text/html": [
       "<div>\n",
       "<style scoped>\n",
       "    .dataframe tbody tr th:only-of-type {\n",
       "        vertical-align: middle;\n",
       "    }\n",
       "\n",
       "    .dataframe tbody tr th {\n",
       "        vertical-align: top;\n",
       "    }\n",
       "\n",
       "    .dataframe thead th {\n",
       "        text-align: right;\n",
       "    }\n",
       "</style>\n",
       "<table border=\"1\" class=\"dataframe\">\n",
       "  <thead>\n",
       "    <tr style=\"text-align: right;\">\n",
       "      <th></th>\n",
       "      <th>id</th>\n",
       "      <th>carat</th>\n",
       "      <th>cut</th>\n",
       "      <th>color</th>\n",
       "      <th>clarity</th>\n",
       "      <th>depth</th>\n",
       "      <th>table</th>\n",
       "      <th>x</th>\n",
       "      <th>y</th>\n",
       "      <th>z</th>\n",
       "      <th>price</th>\n",
       "    </tr>\n",
       "  </thead>\n",
       "  <tbody>\n",
       "    <tr>\n",
       "      <th>0</th>\n",
       "      <td>0</td>\n",
       "      <td>1.52</td>\n",
       "      <td>3</td>\n",
       "      <td>4</td>\n",
       "      <td>7</td>\n",
       "      <td>62.2</td>\n",
       "      <td>58.0</td>\n",
       "      <td>7.27</td>\n",
       "      <td>7.33</td>\n",
       "      <td>4.55</td>\n",
       "      <td>13619</td>\n",
       "    </tr>\n",
       "    <tr>\n",
       "      <th>1</th>\n",
       "      <td>1</td>\n",
       "      <td>2.03</td>\n",
       "      <td>2</td>\n",
       "      <td>0</td>\n",
       "      <td>3</td>\n",
       "      <td>62.0</td>\n",
       "      <td>58.0</td>\n",
       "      <td>8.06</td>\n",
       "      <td>8.12</td>\n",
       "      <td>5.05</td>\n",
       "      <td>13387</td>\n",
       "    </tr>\n",
       "    <tr>\n",
       "      <th>2</th>\n",
       "      <td>2</td>\n",
       "      <td>0.70</td>\n",
       "      <td>4</td>\n",
       "      <td>3</td>\n",
       "      <td>8</td>\n",
       "      <td>61.2</td>\n",
       "      <td>57.0</td>\n",
       "      <td>5.69</td>\n",
       "      <td>5.73</td>\n",
       "      <td>3.50</td>\n",
       "      <td>2772</td>\n",
       "    </tr>\n",
       "    <tr>\n",
       "      <th>3</th>\n",
       "      <td>3</td>\n",
       "      <td>0.32</td>\n",
       "      <td>4</td>\n",
       "      <td>3</td>\n",
       "      <td>8</td>\n",
       "      <td>61.6</td>\n",
       "      <td>56.0</td>\n",
       "      <td>4.38</td>\n",
       "      <td>4.41</td>\n",
       "      <td>2.71</td>\n",
       "      <td>666</td>\n",
       "    </tr>\n",
       "    <tr>\n",
       "      <th>4</th>\n",
       "      <td>4</td>\n",
       "      <td>1.70</td>\n",
       "      <td>3</td>\n",
       "      <td>3</td>\n",
       "      <td>7</td>\n",
       "      <td>62.6</td>\n",
       "      <td>59.0</td>\n",
       "      <td>7.65</td>\n",
       "      <td>7.61</td>\n",
       "      <td>4.77</td>\n",
       "      <td>14453</td>\n",
       "    </tr>\n",
       "  </tbody>\n",
       "</table>\n",
       "</div>"
      ],
      "text/plain": [
       "   id  carat  cut  color  clarity  depth  table     x     y     z  price\n",
       "0   0   1.52    3      4        7   62.2   58.0  7.27  7.33  4.55  13619\n",
       "1   1   2.03    2      0        3   62.0   58.0  8.06  8.12  5.05  13387\n",
       "2   2   0.70    4      3        8   61.2   57.0  5.69  5.73  3.50   2772\n",
       "3   3   0.32    4      3        8   61.6   56.0  4.38  4.41  2.71    666\n",
       "4   4   1.70    3      3        7   62.6   59.0  7.65  7.61  4.77  14453"
      ]
     },
     "execution_count": 16,
     "metadata": {},
     "output_type": "execute_result"
    }
   ],
   "source": [
    "\n",
    "# preprocessing\n",
    "cut_labeling = {col: val for val, col in enumerate(['Fair', 'Good', 'Very Good', 'Premium', 'Ideal'])}\n",
    "color_labeling = {col: val for val, col in enumerate(['J', 'I', 'H', 'G', 'F', 'E', 'D'])}\n",
    "clarity_labeling = {col: val for val, col in enumerate(\n",
    "    ['I3', 'I2', 'I1', 'SI2', 'SI1', 'VVS2', 'VVS1', 'VS2', 'VS1', 'IF', 'FL'])}\n",
    "# to preprocess label features, map label to integer number.\n",
    "def preprocessing(df):\n",
    "    df['cut'] = df['cut'].map(cut_labeling)\n",
    "    df['color'] = df['color'].map(color_labeling)\n",
    "    df['clarity'] = df['clarity'].map(clarity_labeling)\n",
    "    return df\n",
    "\n",
    "train_df = preprocessing(train_df)\n",
    "\n",
    "train_df.head()"
   ]
  },
  {
   "cell_type": "code",
   "execution_count": 19,
   "metadata": {},
   "outputs": [],
   "source": [
    "# Now we need to turn the data into a feature tensor and a target tensor\n",
    "feature_col = ['carat', 'cut', 'color', 'clarity', 'depth', 'table', 'x', 'y', 'z']\n",
    "train_x = tf.convert_to_tensor(\n",
    "    train_df[feature_col])\n",
    "train_y = tf.convert_to_tensor(\n",
    "    train_df['price']\n",
    ")"
   ]
  },
  {
   "cell_type": "code",
   "execution_count": 20,
   "metadata": {},
   "outputs": [],
   "source": [
    "# Specify some simple parameters\n",
    "EPOCH_NUM = 15\n",
    "BATCH_SIZE = 256"
   ]
  },
  {
   "cell_type": "code",
   "execution_count": 24,
   "metadata": {},
   "outputs": [],
   "source": [
    "# Now we can build a model\n",
    "model = tf.keras.Sequential(\n",
    "    [\n",
    "        tf.keras.layers.Dense(16, activation='relu'),\n",
    "        tf.keras.layers.Dense(8, activation='relu'),\n",
    "        tf.keras.layers.Dense(1)\n",
    "    ]\n",
    ")"
   ]
  },
  {
   "cell_type": "code",
   "execution_count": 25,
   "metadata": {},
   "outputs": [
    {
     "name": "stdout",
     "output_type": "stream",
     "text": [
      "Epoch 1/30\n",
      "  7/757 [..............................] - ETA: 6s - loss: 34725120.0000 - root_mean_squared_error: 5892.8027  "
     ]
    },
    {
     "name": "stderr",
     "output_type": "stream",
     "text": [
      "2023-02-25 20:51:10.945596: I tensorflow/core/grappler/optimizers/custom_graph_optimizer_registry.cc:114] Plugin optimizer for device_type GPU is enabled.\n"
     ]
    },
    {
     "name": "stdout",
     "output_type": "stream",
     "text": [
      "757/757 [==============================] - 6s 8ms/step - loss: 21440162.0000 - root_mean_squared_error: 4630.3525\n",
      "Epoch 2/30\n",
      "757/757 [==============================] - 6s 8ms/step - loss: 14707294.0000 - root_mean_squared_error: 3835.0093\n",
      "Epoch 3/30\n",
      "757/757 [==============================] - 6s 8ms/step - loss: 12180304.0000 - root_mean_squared_error: 3490.0293\n",
      "Epoch 4/30\n",
      "757/757 [==============================] - 6s 8ms/step - loss: 7379534.0000 - root_mean_squared_error: 2716.5298\n",
      "Epoch 5/30\n",
      "757/757 [==============================] - 5s 7ms/step - loss: 3803349.7500 - root_mean_squared_error: 1950.2179\n",
      "Epoch 6/30\n",
      "757/757 [==============================] - 6s 7ms/step - loss: 2209473.0000 - root_mean_squared_error: 1486.4297\n",
      "Epoch 7/30\n",
      "757/757 [==============================] - 6s 8ms/step - loss: 1385131.8750 - root_mean_squared_error: 1176.9163\n",
      "Epoch 8/30\n",
      "757/757 [==============================] - 6s 7ms/step - loss: 1040597.1250 - root_mean_squared_error: 1020.0967\n",
      "Epoch 9/30\n",
      "757/757 [==============================] - 5s 7ms/step - loss: 916978.3125 - root_mean_squared_error: 957.5899\n",
      "Epoch 10/30\n",
      "757/757 [==============================] - 6s 8ms/step - loss: 878531.5000 - root_mean_squared_error: 937.3001\n",
      "Epoch 11/30\n",
      "757/757 [==============================] - 6s 8ms/step - loss: 861803.1875 - root_mean_squared_error: 928.3336\n",
      "Epoch 12/30\n",
      "757/757 [==============================] - 6s 8ms/step - loss: 854274.5625 - root_mean_squared_error: 924.2698\n",
      "Epoch 13/30\n",
      "757/757 [==============================] - 6s 8ms/step - loss: 850665.5000 - root_mean_squared_error: 922.3153\n",
      "Epoch 14/30\n",
      "757/757 [==============================] - 6s 8ms/step - loss: 849072.8125 - root_mean_squared_error: 921.4515\n",
      "Epoch 15/30\n",
      "757/757 [==============================] - 6s 8ms/step - loss: 847503.8750 - root_mean_squared_error: 920.5997\n",
      "Epoch 16/30\n",
      "757/757 [==============================] - 6s 8ms/step - loss: 845735.3125 - root_mean_squared_error: 919.6387\n",
      "Epoch 17/30\n",
      "757/757 [==============================] - 6s 8ms/step - loss: 844874.0000 - root_mean_squared_error: 919.1703\n",
      "Epoch 18/30\n",
      "757/757 [==============================] - 6s 7ms/step - loss: 843302.5000 - root_mean_squared_error: 918.3150\n",
      "Epoch 19/30\n",
      "757/757 [==============================] - 6s 7ms/step - loss: 843162.1875 - root_mean_squared_error: 918.2387\n",
      "Epoch 20/30\n",
      "757/757 [==============================] - 5s 7ms/step - loss: 841192.8750 - root_mean_squared_error: 917.1656\n",
      "Epoch 21/30\n",
      "757/757 [==============================] - 6s 8ms/step - loss: 840981.6875 - root_mean_squared_error: 917.0505\n",
      "Epoch 22/30\n",
      "757/757 [==============================] - 6s 7ms/step - loss: 839153.8125 - root_mean_squared_error: 916.0533\n",
      "Epoch 23/30\n",
      "757/757 [==============================] - 6s 7ms/step - loss: 837732.0000 - root_mean_squared_error: 915.2770\n",
      "Epoch 24/30\n",
      "757/757 [==============================] - 6s 7ms/step - loss: 836945.0625 - root_mean_squared_error: 914.8470\n",
      "Epoch 25/30\n",
      "757/757 [==============================] - 6s 7ms/step - loss: 836003.3125 - root_mean_squared_error: 914.3322\n",
      "Epoch 26/30\n",
      "757/757 [==============================] - 6s 7ms/step - loss: 835320.7500 - root_mean_squared_error: 913.9588\n",
      "Epoch 27/30\n",
      "757/757 [==============================] - 6s 7ms/step - loss: 834012.7500 - root_mean_squared_error: 913.2430\n",
      "Epoch 28/30\n",
      "757/757 [==============================] - 6s 7ms/step - loss: 832601.9375 - root_mean_squared_error: 912.4702\n",
      "Epoch 29/30\n",
      "757/757 [==============================] - 6s 7ms/step - loss: 831096.1875 - root_mean_squared_error: 911.6448\n",
      "Epoch 30/30\n",
      "757/757 [==============================] - 6s 7ms/step - loss: 830611.7500 - root_mean_squared_error: 911.3791\n"
     ]
    }
   ],
   "source": [
    "model.compile(optimizer='adam',\n",
    "              loss='mse',\n",
    "              metrics=[tf.keras.metrics.RootMeanSquaredError()])\n",
    "history = model.fit(train_x, train_y, epochs=2*EPOCH_NUM, batch_size=BATCH_SIZE)"
   ]
  },
  {
   "cell_type": "code",
   "execution_count": 26,
   "metadata": {},
   "outputs": [
    {
     "data": {
      "image/png": "[encoded data removed]",
      "text/plain": [
       "<Figure size 640x480 with 1 Axes>"
      ]
     },
     "metadata": {},
     "output_type": "display_data"
    }
   ],
   "source": [
    "loss = history.history['loss']\n",
    "\n",
    "plt.plot(loss)\n",
    "plt.yscale('log')\n",
    "plt.title('Loss')\n",
    "plt.xlabel('Epoch')\n",
    "plt.ylabel('Loss')\n",
    "plt.show()"
   ]
  },
  {
   "attachments": {},
   "cell_type": "markdown",
   "metadata": {},
   "source": [
    "Now we want to run this on the actual test data"
   ]
  },
  {
   "cell_type": "code",
   "execution_count": 28,
   "metadata": {},
   "outputs": [],
   "source": [
    "test_df = preprocessing(test_df)\n",
    "test_df = tf.convert_to_tensor(test_df[feature_col])"
   ]
  },
  {
   "cell_type": "code",
   "execution_count": 29,
   "metadata": {},
   "outputs": [
    {
     "name": "stdout",
     "output_type": "stream",
     "text": [
      "  69/4033 [..............................] - ETA: 8s"
     ]
    },
    {
     "name": "stderr",
     "output_type": "stream",
     "text": [
      "2023-02-25 20:58:28.520719: I tensorflow/core/grappler/optimizers/custom_graph_optimizer_registry.cc:114] Plugin optimizer for device_type GPU is enabled.\n"
     ]
    },
    {
     "name": "stdout",
     "output_type": "stream",
     "text": [
      "4033/4033 [==============================] - 9s 2ms/step\n"
     ]
    }
   ],
   "source": [
    "# Make prediction\n",
    "y_pred = model.predict(test_df)"
   ]
  },
  {
   "cell_type": "code",
   "execution_count": 34,
   "metadata": {},
   "outputs": [],
   "source": [
    "# Load submission df to replace\n",
    "submission_df = pd.read_csv('sample_submission.csv', index_col='id')\n",
    "submission_df['price'] = y_pred\n",
    "\n",
    "# create submission\n",
    "submission_df.to_csv('submission_nn.csv')"
   ]
  },
  {
   "cell_type": "code",
   "execution_count": null,
   "metadata": {},
   "outputs": [],
   "source": []
  }
 ],
 "metadata": {
  "kernelspec": {
   "display_name": "kaggle",
   "language": "python",
   "name": "python3"
  },
  "language_info": {
   "codemirror_mode": {
    "name": "ipython",
    "version": 3
   },
   "file_extension": ".py",
   "mimetype": "text/x-python",
   "name": "python",
   "nbconvert_exporter": "python",
   "pygments_lexer": "ipython3",
   "version": "3.10.9"
  },
  "orig_nbformat": 4,
  "vscode": {
   "interpreter": {
    "hash": "640f1da3d5254a1e9beadbf58e58a199483e73855599e1c60adbdbbe32dfa05a"
   }
  }
 },
 "nbformat": 4,
 "nbformat_minor": 2
}
