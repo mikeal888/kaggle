{
 "cells": [
  {
   "cell_type": "code",
   "execution_count": 55,
   "metadata": {},
   "outputs": [
    {
     "name": "stdout",
     "output_type": "stream",
     "text": [
      "Num GPUs Available:  1\n"
     ]
    }
   ],
   "source": [
    "import pandas as pd\n",
    "import seaborn as sns\n",
    "import matplotlib.pyplot as plt\n",
    "import tensorflow as tf\n",
    "import numpy as np\n",
    "\n",
    "print(\"Num GPUs Available: \", len(tf.config.experimental.list_physical_devices('GPU')))"
   ]
  },
  {
   "cell_type": "code",
   "execution_count": 70,
   "metadata": {},
   "outputs": [],
   "source": [
    "train_df = pd.read_csv('training_data.csv')\n",
    "test_df = pd.read_csv('testing_data.csv')\n",
    "\n",
    "\n",
    "test_df[test_df['z'] == 0] = test_df['z'].mean()\n",
    "test_df[test_df['x'] == 0] = test_df['x'].mean()\n",
    "test_df[test_df['y'] == 0] = test_df['y'].mean()"
   ]
  },
  {
   "attachments": {},
   "cell_type": "markdown",
   "metadata": {},
   "source": [
    "In this notebook, we will build a simple NN model to predict some data"
   ]
  },
  {
   "cell_type": "code",
   "execution_count": 71,
   "metadata": {},
   "outputs": [],
   "source": [
    "# Now we need to turn the data into a feature tensor and a target tensor\n",
    "feature_col = train_df.keys().drop('price')\n",
    "train_x = tf.convert_to_tensor(\n",
    "    train_df[feature_col])\n",
    "train_y = tf.convert_to_tensor(\n",
    "    train_df['price']\n",
    ")"
   ]
  },
  {
   "cell_type": "code",
   "execution_count": 72,
   "metadata": {},
   "outputs": [],
   "source": [
    "# Specify some simple parameters\n",
    "EPOCH_NUM = 10\n",
    "BATCH_SIZE = 256"
   ]
  },
  {
   "cell_type": "code",
   "execution_count": 73,
   "metadata": {},
   "outputs": [],
   "source": [
    "# Now we can build a model\n",
    "model = tf.keras.Sequential(\n",
    "    [\n",
    "        tf.keras.layers.Dense(16, activation='relu'),\n",
    "        tf.keras.layers.Dense(16, activation='relu'),\n",
    "        tf.keras.layers.Dense(8, activation='relu'),\n",
    "        tf.keras.layers.Dense(1)\n",
    "    ]\n",
    ")"
   ]
  },
  {
   "cell_type": "code",
   "execution_count": 74,
   "metadata": {},
   "outputs": [
    {
     "name": "stdout",
     "output_type": "stream",
     "text": [
      "Epoch 1/20\n"
     ]
    },
    {
     "name": "stderr",
     "output_type": "stream",
     "text": [
      "2023-02-26 00:17:55.864823: I tensorflow/core/grappler/optimizers/custom_graph_optimizer_registry.cc:114] Plugin optimizer for device_type GPU is enabled.\n"
     ]
    },
    {
     "name": "stdout",
     "output_type": "stream",
     "text": [
      "856/856 [==============================] - 8s 8ms/step - loss: 11013011.0000 - root_mean_squared_error: 3318.5859\n",
      "Epoch 2/20\n",
      "856/856 [==============================] - 7s 8ms/step - loss: 1304742.5000 - root_mean_squared_error: 1142.2533\n",
      "Epoch 3/20\n",
      "856/856 [==============================] - 7s 9ms/step - loss: 1212673.0000 - root_mean_squared_error: 1101.2144\n",
      "Epoch 4/20\n",
      "856/856 [==============================] - 7s 8ms/step - loss: 1123576.1250 - root_mean_squared_error: 1059.9888\n",
      "Epoch 5/20\n",
      "856/856 [==============================] - 7s 8ms/step - loss: 1026008.8125 - root_mean_squared_error: 1012.9210\n",
      "Epoch 6/20\n",
      "856/856 [==============================] - 7s 8ms/step - loss: 923328.1250 - root_mean_squared_error: 960.8997\n",
      "Epoch 7/20\n",
      "856/856 [==============================] - 7s 8ms/step - loss: 839417.1250 - root_mean_squared_error: 916.1971\n",
      "Epoch 8/20\n",
      "856/856 [==============================] - 7s 9ms/step - loss: 801256.5625 - root_mean_squared_error: 895.1294\n",
      "Epoch 9/20\n",
      "856/856 [==============================] - 7s 8ms/step - loss: 783181.9375 - root_mean_squared_error: 884.9757\n",
      "Epoch 10/20\n",
      "856/856 [==============================] - 7s 8ms/step - loss: 769634.6875 - root_mean_squared_error: 877.2883\n",
      "Epoch 11/20\n",
      "856/856 [==============================] - 7s 8ms/step - loss: 763309.8125 - root_mean_squared_error: 873.6760\n",
      "Epoch 12/20\n",
      "856/856 [==============================] - 7s 8ms/step - loss: 757298.8750 - root_mean_squared_error: 870.2292\n",
      "Epoch 13/20\n",
      "856/856 [==============================] - 7s 8ms/step - loss: 752522.5625 - root_mean_squared_error: 867.4807\n",
      "Epoch 14/20\n",
      "856/856 [==============================] - 7s 8ms/step - loss: 751623.0625 - root_mean_squared_error: 866.9620\n",
      "Epoch 15/20\n",
      "856/856 [==============================] - 7s 8ms/step - loss: 749224.1250 - root_mean_squared_error: 865.5774\n",
      "Epoch 16/20\n",
      "856/856 [==============================] - 7s 9ms/step - loss: 748008.5625 - root_mean_squared_error: 864.8749\n",
      "Epoch 17/20\n",
      "856/856 [==============================] - 7s 9ms/step - loss: 744050.6875 - root_mean_squared_error: 862.5837\n",
      "Epoch 18/20\n",
      "856/856 [==============================] - 7s 8ms/step - loss: 742912.7500 - root_mean_squared_error: 861.9239\n",
      "Epoch 19/20\n",
      "856/856 [==============================] - 7s 8ms/step - loss: 739430.1250 - root_mean_squared_error: 859.9013\n",
      "Epoch 20/20\n",
      "856/856 [==============================] - 7s 8ms/step - loss: 740088.1875 - root_mean_squared_error: 860.2838\n"
     ]
    }
   ],
   "source": [
    "model.compile(optimizer='adam',\n",
    "              loss='mse',\n",
    "              metrics=[tf.keras.metrics.RootMeanSquaredError()])\n",
    "history = model.fit(train_x, train_y, epochs=2*EPOCH_NUM, batch_size=BATCH_SIZE)"
   ]
  },
  {
   "cell_type": "code",
   "execution_count": 79,
   "metadata": {},
   "outputs": [
    {
     "data": {
      "image/png": "[encoded data removed]",
      "text/plain": [
       "<Figure size 640x480 with 1 Axes>"
      ]
     },
     "metadata": {},
     "output_type": "display_data"
    }
   ],
   "source": [
    "loss = history.history['loss']\n",
    "\n",
    "plt.plot(loss)\n",
    "plt.yscale('log')\n",
    "plt.title('Loss')\n",
    "plt.xlabel('Epoch')\n",
    "plt.ylabel('Loss')\n",
    "plt.show()"
   ]
  },
  {
   "attachments": {},
   "cell_type": "markdown",
   "metadata": {},
   "source": [
    "Now we want to run this on the actual test data"
   ]
  },
  {
   "cell_type": "code",
   "execution_count": 80,
   "metadata": {},
   "outputs": [],
   "source": [
    "# test_df = tf.convert_to_tensor(test_df[feature_col])"
   ]
  },
  {
   "cell_type": "code",
   "execution_count": 78,
   "metadata": {},
   "outputs": [
    {
     "name": "stdout",
     "output_type": "stream",
     "text": [
      "  58/4033 [..............................] - ETA: 10s"
     ]
    },
    {
     "name": "stderr",
     "output_type": "stream",
     "text": [
      "2023-02-26 00:20:35.281033: I tensorflow/core/grappler/optimizers/custom_graph_optimizer_registry.cc:114] Plugin optimizer for device_type GPU is enabled.\n"
     ]
    },
    {
     "name": "stdout",
     "output_type": "stream",
     "text": [
      "4033/4033 [==============================] - 10s 2ms/step\n"
     ]
    }
   ],
   "source": [
    "# Make prediction\n",
    "y_pred = model.predict(test_df)"
   ]
  },
  {
   "cell_type": "code",
   "execution_count": 81,
   "metadata": {},
   "outputs": [],
   "source": [
    "# Load submission df to replace\n",
    "submission_df = pd.read_csv('sample_submission.csv', index_col='id')\n",
    "submission_df['price'] = y_pred\n",
    "\n",
    "# create submission\n",
    "submission_df.to_csv('submission_nn.csv')"
   ]
  },
  {
   "cell_type": "code",
   "execution_count": 37,
   "metadata": {},
   "outputs": [
    {
     "data": {
      "text/html": [
       "<div>\n",
       "<style scoped>\n",
       "    .dataframe tbody tr th:only-of-type {\n",
       "        vertical-align: middle;\n",
       "    }\n",
       "\n",
       "    .dataframe tbody tr th {\n",
       "        vertical-align: top;\n",
       "    }\n",
       "\n",
       "    .dataframe thead th {\n",
       "        text-align: right;\n",
       "    }\n",
       "</style>\n",
       "<table border=\"1\" class=\"dataframe\">\n",
       "  <thead>\n",
       "    <tr style=\"text-align: right;\">\n",
       "      <th></th>\n",
       "      <th>id</th>\n",
       "      <th>carat</th>\n",
       "      <th>cut</th>\n",
       "      <th>color</th>\n",
       "      <th>clarity</th>\n",
       "      <th>depth</th>\n",
       "      <th>table</th>\n",
       "      <th>x</th>\n",
       "      <th>y</th>\n",
       "      <th>z</th>\n",
       "    </tr>\n",
       "  </thead>\n",
       "  <tbody>\n",
       "    <tr>\n",
       "      <th>0</th>\n",
       "      <td>193573</td>\n",
       "      <td>0.35</td>\n",
       "      <td>Ideal</td>\n",
       "      <td>D</td>\n",
       "      <td>VS2</td>\n",
       "      <td>62.3</td>\n",
       "      <td>56.0</td>\n",
       "      <td>4.51</td>\n",
       "      <td>4.54</td>\n",
       "      <td>2.82</td>\n",
       "    </tr>\n",
       "    <tr>\n",
       "      <th>1</th>\n",
       "      <td>193574</td>\n",
       "      <td>0.77</td>\n",
       "      <td>Very Good</td>\n",
       "      <td>F</td>\n",
       "      <td>SI2</td>\n",
       "      <td>62.8</td>\n",
       "      <td>56.0</td>\n",
       "      <td>5.83</td>\n",
       "      <td>5.87</td>\n",
       "      <td>3.68</td>\n",
       "    </tr>\n",
       "    <tr>\n",
       "      <th>2</th>\n",
       "      <td>193575</td>\n",
       "      <td>0.71</td>\n",
       "      <td>Ideal</td>\n",
       "      <td>I</td>\n",
       "      <td>VS2</td>\n",
       "      <td>61.9</td>\n",
       "      <td>53.0</td>\n",
       "      <td>5.77</td>\n",
       "      <td>5.74</td>\n",
       "      <td>3.55</td>\n",
       "    </tr>\n",
       "    <tr>\n",
       "      <th>3</th>\n",
       "      <td>193576</td>\n",
       "      <td>0.33</td>\n",
       "      <td>Ideal</td>\n",
       "      <td>G</td>\n",
       "      <td>VVS2</td>\n",
       "      <td>61.6</td>\n",
       "      <td>55.0</td>\n",
       "      <td>4.44</td>\n",
       "      <td>4.42</td>\n",
       "      <td>2.73</td>\n",
       "    </tr>\n",
       "    <tr>\n",
       "      <th>4</th>\n",
       "      <td>193577</td>\n",
       "      <td>1.20</td>\n",
       "      <td>Very Good</td>\n",
       "      <td>I</td>\n",
       "      <td>VS2</td>\n",
       "      <td>62.7</td>\n",
       "      <td>56.0</td>\n",
       "      <td>6.75</td>\n",
       "      <td>6.79</td>\n",
       "      <td>4.24</td>\n",
       "    </tr>\n",
       "    <tr>\n",
       "      <th>...</th>\n",
       "      <td>...</td>\n",
       "      <td>...</td>\n",
       "      <td>...</td>\n",
       "      <td>...</td>\n",
       "      <td>...</td>\n",
       "      <td>...</td>\n",
       "      <td>...</td>\n",
       "      <td>...</td>\n",
       "      <td>...</td>\n",
       "      <td>...</td>\n",
       "    </tr>\n",
       "    <tr>\n",
       "      <th>129045</th>\n",
       "      <td>322618</td>\n",
       "      <td>0.72</td>\n",
       "      <td>Ideal</td>\n",
       "      <td>D</td>\n",
       "      <td>VVS2</td>\n",
       "      <td>62.0</td>\n",
       "      <td>56.0</td>\n",
       "      <td>5.75</td>\n",
       "      <td>5.78</td>\n",
       "      <td>3.57</td>\n",
       "    </tr>\n",
       "    <tr>\n",
       "      <th>129046</th>\n",
       "      <td>322619</td>\n",
       "      <td>0.70</td>\n",
       "      <td>Premium</td>\n",
       "      <td>D</td>\n",
       "      <td>SI1</td>\n",
       "      <td>59.6</td>\n",
       "      <td>62.0</td>\n",
       "      <td>5.77</td>\n",
       "      <td>5.74</td>\n",
       "      <td>3.43</td>\n",
       "    </tr>\n",
       "    <tr>\n",
       "      <th>129047</th>\n",
       "      <td>322620</td>\n",
       "      <td>1.01</td>\n",
       "      <td>Premium</td>\n",
       "      <td>G</td>\n",
       "      <td>VVS2</td>\n",
       "      <td>62.3</td>\n",
       "      <td>58.0</td>\n",
       "      <td>6.44</td>\n",
       "      <td>6.41</td>\n",
       "      <td>4.01</td>\n",
       "    </tr>\n",
       "    <tr>\n",
       "      <th>129048</th>\n",
       "      <td>322621</td>\n",
       "      <td>1.35</td>\n",
       "      <td>Ideal</td>\n",
       "      <td>D</td>\n",
       "      <td>I1</td>\n",
       "      <td>62.0</td>\n",
       "      <td>56.0</td>\n",
       "      <td>7.05</td>\n",
       "      <td>7.08</td>\n",
       "      <td>4.38</td>\n",
       "    </tr>\n",
       "    <tr>\n",
       "      <th>129049</th>\n",
       "      <td>322622</td>\n",
       "      <td>1.07</td>\n",
       "      <td>Premium</td>\n",
       "      <td>H</td>\n",
       "      <td>SI2</td>\n",
       "      <td>62.6</td>\n",
       "      <td>60.0</td>\n",
       "      <td>6.49</td>\n",
       "      <td>6.45</td>\n",
       "      <td>4.06</td>\n",
       "    </tr>\n",
       "  </tbody>\n",
       "</table>\n",
       "<p>129050 rows × 10 columns</p>\n",
       "</div>"
      ],
      "text/plain": [
       "            id  carat        cut color clarity  depth  table     x     y     z\n",
       "0       193573   0.35      Ideal     D     VS2   62.3   56.0  4.51  4.54  2.82\n",
       "1       193574   0.77  Very Good     F     SI2   62.8   56.0  5.83  5.87  3.68\n",
       "2       193575   0.71      Ideal     I     VS2   61.9   53.0  5.77  5.74  3.55\n",
       "3       193576   0.33      Ideal     G    VVS2   61.6   55.0  4.44  4.42  2.73\n",
       "4       193577   1.20  Very Good     I     VS2   62.7   56.0  6.75  6.79  4.24\n",
       "...        ...    ...        ...   ...     ...    ...    ...   ...   ...   ...\n",
       "129045  322618   0.72      Ideal     D    VVS2   62.0   56.0  5.75  5.78  3.57\n",
       "129046  322619   0.70    Premium     D     SI1   59.6   62.0  5.77  5.74  3.43\n",
       "129047  322620   1.01    Premium     G    VVS2   62.3   58.0  6.44  6.41  4.01\n",
       "129048  322621   1.35      Ideal     D      I1   62.0   56.0  7.05  7.08  4.38\n",
       "129049  322622   1.07    Premium     H     SI2   62.6   60.0  6.49  6.45  4.06\n",
       "\n",
       "[129050 rows x 10 columns]"
      ]
     },
     "execution_count": 37,
     "metadata": {},
     "output_type": "execute_result"
    }
   ],
   "source": [
    "test = pd.read_csv('test.csv')\n",
    "test"
   ]
  },
  {
   "cell_type": "code",
   "execution_count": 76,
   "metadata": {},
   "outputs": [
    {
     "data": {
      "text/plain": [
       "carat                     0.200000\n",
       "cut                       0.000000\n",
       "color                     0.000000\n",
       "clarity                   2.000000\n",
       "depth                    50.800000\n",
       "table                    49.000000\n",
       "x                         3.730000\n",
       "y                         3.710000\n",
       "z                         2.060000\n",
       "price                   326.000000\n",
       "volume                   31.920967\n",
       "density                   0.004078\n",
       "table_percentage        554.371002\n",
       "depth_percentage        602.766798\n",
       "surface_area             62.174200\n",
       "depth_to_table_ratio      0.752857\n",
       "dtype: float64"
      ]
     },
     "execution_count": 76,
     "metadata": {},
     "output_type": "execute_result"
    }
   ],
   "source": [
    "train_df.min()"
   ]
  },
  {
   "cell_type": "code",
   "execution_count": 77,
   "metadata": {},
   "outputs": [
    {
     "data": {
      "text/plain": [
       "carat                   0.200000\n",
       "cut                     0.000000\n",
       "color                   0.000000\n",
       "clarity                 2.000000\n",
       "depth                   3.531802\n",
       "table                   3.531802\n",
       "x                       3.531802\n",
       "y                       3.531802\n",
       "z                       2.250000\n",
       "volume                  3.531802\n",
       "density                 0.000602\n",
       "table_percentage        3.531802\n",
       "depth_percentage        3.531802\n",
       "surface_area            3.531802\n",
       "depth_to_table_ratio    0.791429\n",
       "dtype: float64"
      ]
     },
     "execution_count": 77,
     "metadata": {},
     "output_type": "execute_result"
    }
   ],
   "source": [
    "test_df.min()"
   ]
  },
  {
   "cell_type": "code",
   "execution_count": null,
   "metadata": {},
   "outputs": [],
   "source": []
  }
 ],
 "metadata": {
  "kernelspec": {
   "display_name": "kaggle",
   "language": "python",
   "name": "python3"
  },
  "language_info": {
   "codemirror_mode": {
    "name": "ipython",
    "version": 3
   },
   "file_extension": ".py",
   "mimetype": "text/x-python",
   "name": "python",
   "nbconvert_exporter": "python",
   "pygments_lexer": "ipython3",
   "version": "3.10.9"
  },
  "orig_nbformat": 4,
  "vscode": {
   "interpreter": {
    "hash": "640f1da3d5254a1e9beadbf58e58a199483e73855599e1c60adbdbbe32dfa05a"
   }
  }
 },
 "nbformat": 4,
 "nbformat_minor": 2
}
