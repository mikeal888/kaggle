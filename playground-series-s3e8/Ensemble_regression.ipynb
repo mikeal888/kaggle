{
 "cells": [
  {
   "cell_type": "code",
   "execution_count": 36,
   "metadata": {},
   "outputs": [],
   "source": [
    "import pandas as pd\n",
    "import scipy.stats as stats\n",
    "import seaborn as sns\n",
    "import matplotlib.pyplot as plt\n",
    "import numpy as np\n",
    "\n",
    "# Load packages for ensemble regression\n",
    "from sklearn.linear_model import Lasso, Ridge\n",
    "from xgboost.sklearn import XGBRegressor\n",
    "from sklearn.pipeline import make_pipeline\n",
    "from sklearn.model_selection import cross_val_score, KFold\n",
    "from sklearn.metrics import mean_squared_error, mean_absolute_error\n",
    "from sklearn.preprocessing import RobustScaler\n"
   ]
  },
  {
   "cell_type": "code",
   "execution_count": 37,
   "metadata": {},
   "outputs": [],
   "source": [
    "train_df = pd.read_csv('./Data/training_data.csv')\n",
    "test_df = pd.read_csv('./Data/testing_data.csv')\n",
    "\n",
    "# Split data into train x and y\n",
    "train_x = train_df.drop(['price'], axis=1)\n",
    "train_y = train_df['price']\n",
    "\n",
    "# we have logged the price so we need to indicate this\n",
    "log_price = True"
   ]
  },
  {
   "cell_type": "code",
   "execution_count": 38,
   "metadata": {},
   "outputs": [],
   "source": [
    "# define a cross validation strategy using cross_val_score\n",
    "n_folds = 10\n",
    "\n",
    "def rmse_cv(model):\n",
    "    # split data into kf|olds\n",
    "    kf = KFold(n_folds, shuffle=True, random_state=42).get_n_splits(train_x.values)\n",
    "    # Compute rmse using cross validation\n",
    "    rmse = np.sqrt(-cross_val_score(model, train_x.values, train_y, scoring=\"neg_mean_squared_error\", cv=kf))\n",
    "    return rmse\n"
   ]
  },
  {
   "cell_type": "code",
   "execution_count": 39,
   "metadata": {},
   "outputs": [
    {
     "name": "stderr",
     "output_type": "stream",
     "text": [
      "/Users/michael/miniconda3/envs/kaggle/lib/python3.10/site-packages/sklearn/linear_model/_coordinate_descent.py:631: ConvergenceWarning: Objective did not converge. You might want to increase the number of iterations, check the scale of the features or consider increasing regularisation. Duality gap: 2.126e+01, tolerance: 2.052e+01\n",
      "  model = cd_fast.enet_coordinate_descent(\n",
      "/Users/michael/miniconda3/envs/kaggle/lib/python3.10/site-packages/sklearn/linear_model/_coordinate_descent.py:631: ConvergenceWarning: Objective did not converge. You might want to increase the number of iterations, check the scale of the features or consider increasing regularisation. Duality gap: 2.142e+01, tolerance: 2.054e+01\n",
      "  model = cd_fast.enet_coordinate_descent(\n",
      "/Users/michael/miniconda3/envs/kaggle/lib/python3.10/site-packages/sklearn/linear_model/_coordinate_descent.py:631: ConvergenceWarning: Objective did not converge. You might want to increase the number of iterations, check the scale of the features or consider increasing regularisation. Duality gap: 2.132e+01, tolerance: 2.054e+01\n",
      "  model = cd_fast.enet_coordinate_descent(\n",
      "/Users/michael/miniconda3/envs/kaggle/lib/python3.10/site-packages/sklearn/linear_model/_coordinate_descent.py:631: ConvergenceWarning: Objective did not converge. You might want to increase the number of iterations, check the scale of the features or consider increasing regularisation. Duality gap: 2.194e+01, tolerance: 2.050e+01\n",
      "  model = cd_fast.enet_coordinate_descent(\n",
      "/Users/michael/miniconda3/envs/kaggle/lib/python3.10/site-packages/sklearn/linear_model/_coordinate_descent.py:631: ConvergenceWarning: Objective did not converge. You might want to increase the number of iterations, check the scale of the features or consider increasing regularisation. Duality gap: 2.144e+01, tolerance: 2.054e+01\n",
      "  model = cd_fast.enet_coordinate_descent(\n",
      "/Users/michael/miniconda3/envs/kaggle/lib/python3.10/site-packages/sklearn/linear_model/_coordinate_descent.py:631: ConvergenceWarning: Objective did not converge. You might want to increase the number of iterations, check the scale of the features or consider increasing regularisation. Duality gap: 2.147e+01, tolerance: 2.054e+01\n",
      "  model = cd_fast.enet_coordinate_descent(\n",
      "/Users/michael/miniconda3/envs/kaggle/lib/python3.10/site-packages/sklearn/linear_model/_coordinate_descent.py:631: ConvergenceWarning: Objective did not converge. You might want to increase the number of iterations, check the scale of the features or consider increasing regularisation. Duality gap: 2.138e+01, tolerance: 2.052e+01\n",
      "  model = cd_fast.enet_coordinate_descent(\n",
      "/Users/michael/miniconda3/envs/kaggle/lib/python3.10/site-packages/sklearn/linear_model/_coordinate_descent.py:631: ConvergenceWarning: Objective did not converge. You might want to increase the number of iterations, check the scale of the features or consider increasing regularisation. Duality gap: 2.094e+01, tolerance: 2.051e+01\n",
      "  model = cd_fast.enet_coordinate_descent(\n",
      "/Users/michael/miniconda3/envs/kaggle/lib/python3.10/site-packages/sklearn/linear_model/_coordinate_descent.py:631: ConvergenceWarning: Objective did not converge. You might want to increase the number of iterations, check the scale of the features or consider increasing regularisation. Duality gap: 2.246e+01, tolerance: 2.052e+01\n",
      "  model = cd_fast.enet_coordinate_descent(\n",
      "/Users/michael/miniconda3/envs/kaggle/lib/python3.10/site-packages/sklearn/linear_model/_coordinate_descent.py:631: ConvergenceWarning: Objective did not converge. You might want to increase the number of iterations, check the scale of the features or consider increasing regularisation. Duality gap: 2.187e+01, tolerance: 2.054e+01\n",
      "  model = cd_fast.enet_coordinate_descent(\n",
      "/Users/michael/miniconda3/envs/kaggle/lib/python3.10/site-packages/sklearn/linear_model/_coordinate_descent.py:631: ConvergenceWarning: Objective did not converge. You might want to increase the number of iterations, check the scale of the features or consider increasing regularisation. Duality gap: 2.226e+01, tolerance: 2.054e+01\n",
      "  model = cd_fast.enet_coordinate_descent(\n",
      "/Users/michael/miniconda3/envs/kaggle/lib/python3.10/site-packages/sklearn/linear_model/_coordinate_descent.py:631: ConvergenceWarning: Objective did not converge. You might want to increase the number of iterations, check the scale of the features or consider increasing regularisation. Duality gap: 2.814e+01, tolerance: 2.050e+01\n",
      "  model = cd_fast.enet_coordinate_descent(\n",
      "/Users/michael/miniconda3/envs/kaggle/lib/python3.10/site-packages/sklearn/linear_model/_coordinate_descent.py:631: ConvergenceWarning: Objective did not converge. You might want to increase the number of iterations, check the scale of the features or consider increasing regularisation. Duality gap: 2.287e+01, tolerance: 2.054e+01\n",
      "  model = cd_fast.enet_coordinate_descent(\n",
      "/Users/michael/miniconda3/envs/kaggle/lib/python3.10/site-packages/sklearn/linear_model/_coordinate_descent.py:631: ConvergenceWarning: Objective did not converge. You might want to increase the number of iterations, check the scale of the features or consider increasing regularisation. Duality gap: 2.331e+01, tolerance: 2.054e+01\n",
      "  model = cd_fast.enet_coordinate_descent(\n",
      "/Users/michael/miniconda3/envs/kaggle/lib/python3.10/site-packages/sklearn/linear_model/_coordinate_descent.py:631: ConvergenceWarning: Objective did not converge. You might want to increase the number of iterations, check the scale of the features or consider increasing regularisation. Duality gap: 2.284e+01, tolerance: 2.052e+01\n",
      "  model = cd_fast.enet_coordinate_descent(\n",
      "/Users/michael/miniconda3/envs/kaggle/lib/python3.10/site-packages/sklearn/linear_model/_coordinate_descent.py:631: ConvergenceWarning: Objective did not converge. You might want to increase the number of iterations, check the scale of the features or consider increasing regularisation. Duality gap: 2.089e+01, tolerance: 2.051e+01\n",
      "  model = cd_fast.enet_coordinate_descent(\n",
      "/Users/michael/miniconda3/envs/kaggle/lib/python3.10/site-packages/sklearn/linear_model/_coordinate_descent.py:631: ConvergenceWarning: Objective did not converge. You might want to increase the number of iterations, check the scale of the features or consider increasing regularisation. Duality gap: 3.092e+01, tolerance: 2.049e+01\n",
      "  model = cd_fast.enet_coordinate_descent(\n",
      "/Users/michael/miniconda3/envs/kaggle/lib/python3.10/site-packages/sklearn/linear_model/_coordinate_descent.py:631: ConvergenceWarning: Objective did not converge. You might want to increase the number of iterations, check the scale of the features or consider increasing regularisation. Duality gap: 3.063e+01, tolerance: 2.052e+01\n",
      "  model = cd_fast.enet_coordinate_descent(\n",
      "/Users/michael/miniconda3/envs/kaggle/lib/python3.10/site-packages/sklearn/linear_model/_coordinate_descent.py:631: ConvergenceWarning: Objective did not converge. You might want to increase the number of iterations, check the scale of the features or consider increasing regularisation. Duality gap: 2.477e+01, tolerance: 2.054e+01\n",
      "  model = cd_fast.enet_coordinate_descent(\n",
      "/Users/michael/miniconda3/envs/kaggle/lib/python3.10/site-packages/sklearn/linear_model/_coordinate_descent.py:631: ConvergenceWarning: Objective did not converge. You might want to increase the number of iterations, check the scale of the features or consider increasing regularisation. Duality gap: 2.275e+01, tolerance: 2.054e+01\n",
      "  model = cd_fast.enet_coordinate_descent(\n",
      "/Users/michael/miniconda3/envs/kaggle/lib/python3.10/site-packages/sklearn/linear_model/_coordinate_descent.py:631: ConvergenceWarning: Objective did not converge. You might want to increase the number of iterations, check the scale of the features or consider increasing regularisation. Duality gap: 2.859e+01, tolerance: 2.050e+01\n",
      "  model = cd_fast.enet_coordinate_descent(\n",
      "/Users/michael/miniconda3/envs/kaggle/lib/python3.10/site-packages/sklearn/linear_model/_coordinate_descent.py:631: ConvergenceWarning: Objective did not converge. You might want to increase the number of iterations, check the scale of the features or consider increasing regularisation. Duality gap: 2.705e+01, tolerance: 2.054e+01\n",
      "  model = cd_fast.enet_coordinate_descent(\n",
      "/Users/michael/miniconda3/envs/kaggle/lib/python3.10/site-packages/sklearn/linear_model/_coordinate_descent.py:631: ConvergenceWarning: Objective did not converge. You might want to increase the number of iterations, check the scale of the features or consider increasing regularisation. Duality gap: 2.368e+01, tolerance: 2.054e+01\n",
      "  model = cd_fast.enet_coordinate_descent(\n",
      "/Users/michael/miniconda3/envs/kaggle/lib/python3.10/site-packages/sklearn/linear_model/_coordinate_descent.py:631: ConvergenceWarning: Objective did not converge. You might want to increase the number of iterations, check the scale of the features or consider increasing regularisation. Duality gap: 2.367e+01, tolerance: 2.052e+01\n",
      "  model = cd_fast.enet_coordinate_descent(\n",
      "/Users/michael/miniconda3/envs/kaggle/lib/python3.10/site-packages/sklearn/linear_model/_coordinate_descent.py:631: ConvergenceWarning: Objective did not converge. You might want to increase the number of iterations, check the scale of the features or consider increasing regularisation. Duality gap: 3.279e+01, tolerance: 2.051e+01\n",
      "  model = cd_fast.enet_coordinate_descent(\n",
      "/Users/michael/miniconda3/envs/kaggle/lib/python3.10/site-packages/sklearn/linear_model/_coordinate_descent.py:631: ConvergenceWarning: Objective did not converge. You might want to increase the number of iterations, check the scale of the features or consider increasing regularisation. Duality gap: 2.205e+01, tolerance: 2.054e+01\n",
      "  model = cd_fast.enet_coordinate_descent(\n",
      "/Users/michael/miniconda3/envs/kaggle/lib/python3.10/site-packages/sklearn/linear_model/_coordinate_descent.py:631: ConvergenceWarning: Objective did not converge. You might want to increase the number of iterations, check the scale of the features or consider increasing regularisation. Duality gap: 3.425e+01, tolerance: 2.052e+01\n",
      "  model = cd_fast.enet_coordinate_descent(\n",
      "/Users/michael/miniconda3/envs/kaggle/lib/python3.10/site-packages/sklearn/linear_model/_coordinate_descent.py:631: ConvergenceWarning: Objective did not converge. You might want to increase the number of iterations, check the scale of the features or consider increasing regularisation. Duality gap: 3.544e+01, tolerance: 2.054e+01\n",
      "  model = cd_fast.enet_coordinate_descent(\n",
      "/Users/michael/miniconda3/envs/kaggle/lib/python3.10/site-packages/sklearn/linear_model/_coordinate_descent.py:631: ConvergenceWarning: Objective did not converge. You might want to increase the number of iterations, check the scale of the features or consider increasing regularisation. Duality gap: 3.614e+01, tolerance: 2.054e+01\n",
      "  model = cd_fast.enet_coordinate_descent(\n",
      "/Users/michael/miniconda3/envs/kaggle/lib/python3.10/site-packages/sklearn/linear_model/_coordinate_descent.py:631: ConvergenceWarning: Objective did not converge. You might want to increase the number of iterations, check the scale of the features or consider increasing regularisation. Duality gap: 3.496e+01, tolerance: 2.050e+01\n",
      "  model = cd_fast.enet_coordinate_descent(\n",
      "/Users/michael/miniconda3/envs/kaggle/lib/python3.10/site-packages/sklearn/linear_model/_coordinate_descent.py:631: ConvergenceWarning: Objective did not converge. You might want to increase the number of iterations, check the scale of the features or consider increasing regularisation. Duality gap: 3.507e+01, tolerance: 2.054e+01\n",
      "  model = cd_fast.enet_coordinate_descent(\n",
      "/Users/michael/miniconda3/envs/kaggle/lib/python3.10/site-packages/sklearn/linear_model/_coordinate_descent.py:631: ConvergenceWarning: Objective did not converge. You might want to increase the number of iterations, check the scale of the features or consider increasing regularisation. Duality gap: 3.610e+01, tolerance: 2.054e+01\n",
      "  model = cd_fast.enet_coordinate_descent(\n",
      "/Users/michael/miniconda3/envs/kaggle/lib/python3.10/site-packages/sklearn/linear_model/_coordinate_descent.py:631: ConvergenceWarning: Objective did not converge. You might want to increase the number of iterations, check the scale of the features or consider increasing regularisation. Duality gap: 3.584e+01, tolerance: 2.052e+01\n",
      "  model = cd_fast.enet_coordinate_descent(\n",
      "/Users/michael/miniconda3/envs/kaggle/lib/python3.10/site-packages/sklearn/linear_model/_coordinate_descent.py:631: ConvergenceWarning: Objective did not converge. You might want to increase the number of iterations, check the scale of the features or consider increasing regularisation. Duality gap: 3.458e+01, tolerance: 2.051e+01\n",
      "  model = cd_fast.enet_coordinate_descent(\n",
      "/Users/michael/miniconda3/envs/kaggle/lib/python3.10/site-packages/sklearn/linear_model/_coordinate_descent.py:631: ConvergenceWarning: Objective did not converge. You might want to increase the number of iterations, check the scale of the features or consider increasing regularisation. Duality gap: 4.002e+01, tolerance: 2.054e+01\n",
      "  model = cd_fast.enet_coordinate_descent(\n"
     ]
    }
   ],
   "source": [
    "# First we will loop over different alpha values for lasso regression and see which one gives the best rmse\n",
    "lasso_alphas = [0.005, 0.006, 0.007, 0.008, 0.009, 0.01, 0.02, 0.03, 0.04, 0.05, 0.06, 0.07, 0.08, 0.09, 0.1, 0.2, 0.3, 0.4, 0.5, 0.6, 0.7, 0.8, 0.9, 1]\n",
    "lasso_rmse = []\n",
    "\n",
    "# Loop over lasso alphas\n",
    "for alpha in lasso_alphas:\n",
    "    lasso = make_pipeline(RobustScaler(), Lasso(alpha=alpha, random_state=1))\n",
    "    lasso_rmse.append(rmse_cv(lasso).mean())"
   ]
  },
  {
   "cell_type": "code",
   "execution_count": null,
   "metadata": {},
   "outputs": [],
   "source": [
    "# We can now create a score table\n",
    "lasso_score_table = pd.DataFrame(lasso_rmse,lasso_alpha,columns=['RMSE'])\n",
    "\n",
    "# Get the best alpha value \n",
    "best_lasso_alpha = lasso_score_table.idxmin()[0]\n",
    "\n",
    "# Plot the rmse vs alpha values \n",
    "plt.semilogx(lasso_alphas, lasso_rmse)\n",
    "plt.vlines(best_lasso_alpha, plt.ylim()[0], np.max(lasso_rmse), color='k', linewidth=3, label='best alpha')\n",
    "plt.xlabel('alpha')\n",
    "plt.ylabel('rmse')\n",
    "\n",
    "plt.legend()\n",
    "plt.show()"
   ]
  },
  {
   "cell_type": "code",
   "execution_count": null,
   "metadata": {},
   "outputs": [],
   "source": []
  }
 ],
 "metadata": {
  "kernelspec": {
   "display_name": "kaggle",
   "language": "python",
   "name": "python3"
  },
  "language_info": {
   "codemirror_mode": {
    "name": "ipython",
    "version": 3
   },
   "file_extension": ".py",
   "mimetype": "text/x-python",
   "name": "python",
   "nbconvert_exporter": "python",
   "pygments_lexer": "ipython3",
   "version": "3.10.9"
  },
  "orig_nbformat": 4
 },
 "nbformat": 4,
 "nbformat_minor": 2
}
